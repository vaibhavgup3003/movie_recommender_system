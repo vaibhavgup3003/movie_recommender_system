{
 "cells": [
  {
   "cell_type": "code",
   "execution_count": null,
   "id": "e1df3326-fc67-432f-b795-51f849dd63a9",
   "metadata": {},
   "outputs": [],
   "source": [
    "import numpy as np\n",
    "import pandas as pd\n",
    "import ast\n",
    "import nltk"
   ]
  },
  {
   "cell_type": "code",
   "execution_count": null,
   "id": "c1b94dff-29c5-487a-95a1-b39a1d3eec22",
   "metadata": {},
   "outputs": [],
   "source": [
    "movies = pd.read_csv('tmdb_5000_movies.csv')\n",
    "credits = pd.read_csv('tmdb_5000_credits.csv')"
   ]
  },
  {
   "cell_type": "code",
   "execution_count": null,
   "id": "36b09828-c8c1-4537-9382-1484f25d037f",
   "metadata": {},
   "outputs": [],
   "source": [
    "movies.head(1)"
   ]
  },
  {
   "cell_type": "code",
   "execution_count": null,
   "id": "5b2d6deb-bd68-4a35-9776-19b345dd58dc",
   "metadata": {},
   "outputs": [],
   "source": [
    "credits.head(1)['cast'].values"
   ]
  },
  {
   "cell_type": "code",
   "execution_count": null,
   "id": "d2cd0a3e-120c-4151-9fa3-278f16d429be",
   "metadata": {},
   "outputs": [],
   "source": [
    "movies = movies.merge(credits,on='title')"
   ]
  },
  {
   "cell_type": "code",
   "execution_count": null,
   "id": "fe086fc8-0fc6-41d2-ae08-bf6b8001bef5",
   "metadata": {},
   "outputs": [],
   "source": [
    "movies.shape"
   ]
  },
  {
   "cell_type": "code",
   "execution_count": null,
   "id": "9b377408-4f1c-4d29-ae5b-c5cfa4f43328",
   "metadata": {},
   "outputs": [],
   "source": [
    "credits.shape"
   ]
  },
  {
   "cell_type": "code",
   "execution_count": null,
   "id": "956d6ffe-2d06-455a-b092-c362cd952fa4",
   "metadata": {
    "scrolled": true
   },
   "outputs": [],
   "source": [
    "movies.head(1)"
   ]
  },
  {
   "cell_type": "code",
   "execution_count": null,
   "id": "72491d4c-ab86-4670-8bbc-b711daff9f5e",
   "metadata": {},
   "outputs": [],
   "source": [
    "movies = movies[['movie_id', 'genres', 'keywords', 'title', 'cast', 'crew', 'overview' ]]\n",
    "# budget\n",
    "# genres\n",
    "# id\n",
    "# keywords\n",
    "# orignal_title\n",
    "# overview\n",
    "# runtime\n",
    "# tagline\n",
    "# cast\n",
    "# crew\n",
    "\n",
    "\n",
    "# now we need to merge the genres, cast ,crew column to form a tags column\n",
    "# we will take only top three casts and only the director from the crew.\n",
    "\n",
    "# this is the part of data preprocessing\n",
    "\n",
    "\n",
    "\n",
    "\n"
   ]
  },
  {
   "cell_type": "code",
   "execution_count": null,
   "id": "44d4367c",
   "metadata": {},
   "outputs": [],
   "source": [
    "movies\n"
   ]
  },
  {
   "cell_type": "code",
   "execution_count": null,
   "id": "dada121d",
   "metadata": {},
   "outputs": [],
   "source": [
    "movies.isnull().sum()"
   ]
  },
  {
   "cell_type": "code",
   "execution_count": null,
   "id": "7e906d9b",
   "metadata": {},
   "outputs": [],
   "source": [
    "movies.duplicated().sum()"
   ]
  },
  {
   "cell_type": "code",
   "execution_count": null,
   "id": "43547dd5",
   "metadata": {},
   "outputs": [],
   "source": [
    "movies.iloc[0].genres"
   ]
  },
  {
   "cell_type": "code",
   "execution_count": null,
   "id": "568992ff",
   "metadata": {},
   "outputs": [],
   "source": [
    "# '[{\"id\": 28, \"name\": \"Action\"}, {\"id\": 12, \"name\": \"Adventure\"}, {\"id\": 14, \"name\": \"Fantasy\"}, {\"id\": 878, \"name\": \"Science Fiction\"}]'\n",
    "\n",
    "# we have to convert this format in , \n",
    "#  ['action', 'adventure', 'fantasy', 'science fiction']"
   ]
  },
  {
   "cell_type": "code",
   "execution_count": null,
   "id": "e4f86ed8",
   "metadata": {},
   "outputs": [],
   "source": [
    "def convert(obj):\n",
    "    L = []\n",
    "    for i in ast.literal_eval(obj):\n",
    "        L.append(i['name'])\n",
    "    return L"
   ]
  },
  {
   "cell_type": "code",
   "execution_count": null,
   "id": "c121ee9c",
   "metadata": {},
   "outputs": [],
   "source": [
    "convert( '[{\"id\": 28, \"name\": \"Action\"}, {\"id\": 12, \"name\": \"Adventure\"}, {\"id\": 14, \"name\": \"Fantasy\"}, {\"id\": 878, \"name\": \"Science Fiction\"}]'\n",
    ")"
   ]
  },
  {
   "cell_type": "code",
   "execution_count": null,
   "id": "d2a09612",
   "metadata": {},
   "outputs": [],
   "source": [
    "movies['genres'].apply(convert)"
   ]
  },
  {
   "cell_type": "code",
   "execution_count": null,
   "id": "e1f9efce",
   "metadata": {},
   "outputs": [],
   "source": [
    "movies['genres'] = movies['genres'].apply(convert)\n",
    "movies.head()\n"
   ]
  },
  {
   "cell_type": "code",
   "execution_count": null,
   "id": "bee0b28a",
   "metadata": {},
   "outputs": [],
   "source": [
    "movies.iloc[0].keywords"
   ]
  },
  {
   "cell_type": "code",
   "execution_count": null,
   "id": "d5cf880a",
   "metadata": {},
   "outputs": [],
   "source": [
    "movies['keywords'] = movies['keywords'].apply(convert)"
   ]
  },
  {
   "cell_type": "code",
   "execution_count": null,
   "id": "ced70127",
   "metadata": {},
   "outputs": [],
   "source": [
    "movies"
   ]
  },
  {
   "cell_type": "code",
   "execution_count": null,
   "id": "2c6ac704",
   "metadata": {},
   "outputs": [],
   "source": [
    "movies['cast'][0]"
   ]
  },
  {
   "cell_type": "code",
   "execution_count": null,
   "id": "b4793fc0",
   "metadata": {},
   "outputs": [],
   "source": [
    "def convert3(obj):\n",
    "    cnt =0\n",
    "    L = []\n",
    "    for i in ast.literal_eval(obj):\n",
    "        if cnt <= 3:\n",
    "          L.append(i['name'])\n",
    "          cnt++1\n",
    "        else : \n",
    "          break\n",
    "    return L"
   ]
  },
  {
   "cell_type": "code",
   "execution_count": null,
   "id": "2ec3e120",
   "metadata": {},
   "outputs": [],
   "source": [
    "movies['cast'] = movies['cast'].apply(convert3)"
   ]
  },
  {
   "cell_type": "code",
   "execution_count": null,
   "id": "98eedff0",
   "metadata": {},
   "outputs": [],
   "source": [
    "movies['crew'][3]\n",
    "\n"
   ]
  },
  {
   "cell_type": "code",
   "execution_count": null,
   "id": "853a20fe",
   "metadata": {},
   "outputs": [],
   "source": [
    "def fetch_director(obj):\n",
    "    L = []\n",
    "    for i in ast.literal_eval(obj):\n",
    "        if i['job'] == 'Director':\n",
    "          L.append(i['name'])\n",
    "          break\n",
    "    return L"
   ]
  },
  {
   "cell_type": "code",
   "execution_count": null,
   "id": "a9430c66",
   "metadata": {},
   "outputs": [],
   "source": [
    "movies['crew'] = movies['crew'].apply(fetch_director)"
   ]
  },
  {
   "cell_type": "code",
   "execution_count": null,
   "id": "16535680",
   "metadata": {},
   "outputs": [],
   "source": [
    "movies"
   ]
  },
  {
   "cell_type": "code",
   "execution_count": null,
   "id": "0b69eeec",
   "metadata": {},
   "outputs": [],
   "source": [
    "movies['overview'][0]\n",
    "# this overview section is a string, so we need to convert it in a list so that we can concatenate it with other lists.\n"
   ]
  },
  {
   "cell_type": "code",
   "execution_count": null,
   "id": "9ab9bfdc",
   "metadata": {},
   "outputs": [],
   "source": [
    "# this converts text in list\n",
    "\n",
    "nltk.download('punkt')\n",
    "from nltk.tokenize import word_tokenize\n",
    "movies = movies.dropna(subset=['overview'])\n",
    "\n",
    "movies['overview'] = movies['overview'].apply(word_tokenize)\n"
   ]
  },
  {
   "cell_type": "code",
   "execution_count": null,
   "id": "f8c06b85",
   "metadata": {},
   "outputs": [],
   "source": [
    "# this is a check mark\n",
    "\n",
    "for index, tags in enumerate(movies['overview']):\n",
    "    if not isinstance(tags, list):\n",
    "        print(f\"Element at index {index} is not a list. Type: {type(tags)}\")\n",
    "    else:\n",
    "        print(f\"Element at index {index} is a list. Type: {type(tags)}\")\n",
    "        "
   ]
  },
  {
   "cell_type": "code",
   "execution_count": null,
   "id": "d7ae82eb",
   "metadata": {},
   "outputs": [],
   "source": [
    "movies['overview'][0]"
   ]
  },
  {
   "cell_type": "code",
   "execution_count": null,
   "id": "e2670a9e",
   "metadata": {},
   "outputs": [],
   "source": [
    "# we need to remove spaces between the same name \n",
    "movies['keywords'].apply(lambda x:[i.replace(\" \",\"\") for i in x])"
   ]
  },
  {
   "cell_type": "code",
   "execution_count": null,
   "id": "ea190386",
   "metadata": {},
   "outputs": [],
   "source": [
    "movies['genres'].apply(lambda x:[i.replace(\" \",\"\") for i in x])"
   ]
  },
  {
   "cell_type": "code",
   "execution_count": null,
   "id": "34d5aa9b",
   "metadata": {},
   "outputs": [],
   "source": [
    "movies['cast'].apply(lambda x:[i.replace(\" \",\"\") for i in x])"
   ]
  },
  {
   "cell_type": "code",
   "execution_count": null,
   "id": "946b4d48",
   "metadata": {},
   "outputs": [],
   "source": [
    "movies['crew'].apply(lambda x:[i.replace(\" \",\"\") for i in x])\n",
    "\n"
   ]
  },
  {
   "cell_type": "code",
   "execution_count": null,
   "id": "dab499ec",
   "metadata": {},
   "outputs": [],
   "source": [
    "movies['tags'] = movies['overview'] + movies['keywords'] + movies['cast'] + movies['crew'] + movies['genres']"
   ]
  },
  {
   "cell_type": "code",
   "execution_count": null,
   "id": "79d6b7b8",
   "metadata": {},
   "outputs": [],
   "source": [
    "movies.head()"
   ]
  },
  {
   "cell_type": "code",
   "execution_count": null,
   "id": "74a7afe2",
   "metadata": {},
   "outputs": [],
   "source": [
    "new_df = movies[['movie_id', 'title', 'tags']]"
   ]
  },
  {
   "cell_type": "code",
   "execution_count": null,
   "id": "e0a90bc6",
   "metadata": {},
   "outputs": [],
   "source": [
    "new_df"
   ]
  },
  {
   "cell_type": "code",
   "execution_count": null,
   "id": "43b48fdf",
   "metadata": {},
   "outputs": [],
   "source": [
    "# we need to convert the list into string format again \" \".join(x) for i in x]\n",
    "\n",
    "\n",
    "new_df['tags'] = new_df['tags'].apply(lambda x:\" \".join(x))\n",
    "\n",
    "# if u run above statement multiple times it will add a space that number of time\n"
   ]
  },
  {
   "cell_type": "code",
   "execution_count": null,
   "id": "ecca36b6",
   "metadata": {},
   "outputs": [],
   "source": [
    "new_df['tags'][0]\n"
   ]
  },
  {
   "cell_type": "code",
   "execution_count": null,
   "id": "fde44c3c",
   "metadata": {},
   "outputs": [],
   "source": [
    "new_df.head()"
   ]
  },
  {
   "cell_type": "code",
   "execution_count": null,
   "id": "01867c4f",
   "metadata": {},
   "outputs": [],
   "source": [
    "new_df['tags'] = new_df['tags'].apply(lambda x:x.lower())\n",
    "# this is recommended to convert all text into lower case by this function"
   ]
  },
  {
   "cell_type": "code",
   "execution_count": null,
   "id": "a89e5cf9",
   "metadata": {},
   "outputs": [],
   "source": [
    "# now we have a fine clear data, now we have to vectorize the data\n",
    "'''\n",
    "VECTORIZATION\n",
    "\n",
    "this is the process of converting text into vectors. then the vectors closest to a particular vector will be the best match for that particular vector.\n",
    "                      Vectorisation\n",
    "                       /    |     \\\n",
    "                      /     |      \\\n",
    "                     /      |       \\\n",
    "            bag of words   \n",
    "'''"
   ]
  },
  {
   "cell_type": "code",
   "execution_count": null,
   "id": "ff6eb06c",
   "metadata": {},
   "outputs": [],
   "source": [
    "# now there are some words like (acted, acting, actors, actor) ... these all are similar so we need to replace this by one\n",
    "# this process is called stamming"
   ]
  },
  {
   "cell_type": "code",
   "execution_count": null,
   "id": "01bc7b8d",
   "metadata": {},
   "outputs": [],
   "source": [
    "from nltk.stem.porter import PorterStemmer\n",
    "ps = PorterStemmer()"
   ]
  },
  {
   "cell_type": "code",
   "execution_count": null,
   "id": "3c03760f",
   "metadata": {},
   "outputs": [],
   "source": [
    "def stem(text):\n",
    "    y = []\n",
    "    for i in text.split():\n",
    "        y.append(ps.stem(i))\n",
    "    return \" \".join(y)"
   ]
  },
  {
   "cell_type": "code",
   "execution_count": null,
   "id": "3c502cb9",
   "metadata": {},
   "outputs": [],
   "source": [
    "new_df['tags'] = new_df['tags'].apply(stem)"
   ]
  },
  {
   "cell_type": "code",
   "execution_count": null,
   "id": "9009fc80",
   "metadata": {},
   "outputs": [],
   "source": [
    "from sklearn.feature_extraction.text import CountVectorizer\n",
    "cv = CountVectorizer(max_features= 5000, stop_words='english')"
   ]
  },
  {
   "cell_type": "code",
   "execution_count": null,
   "id": "3f26f001",
   "metadata": {},
   "outputs": [],
   "source": [
    "vectors = cv.fit_transform(new_df['tags']).toarray()"
   ]
  },
  {
   "cell_type": "code",
   "execution_count": null,
   "id": "1440e61b",
   "metadata": {},
   "outputs": [],
   "source": [
    "cv.get_feature_names()\n"
   ]
  },
  {
   "cell_type": "code",
   "execution_count": null,
   "id": "23a8946f",
   "metadata": {},
   "outputs": [],
   "source": [
    "vectors"
   ]
  },
  {
   "cell_type": "code",
   "execution_count": null,
   "id": "25119c22",
   "metadata": {},
   "outputs": [],
   "source": [
    "from sklearn.metrics.pairwise import cosine_similarity"
   ]
  },
  {
   "cell_type": "code",
   "execution_count": null,
   "id": "07468347",
   "metadata": {},
   "outputs": [],
   "source": [
    "similarity = cosine_similarity(vectors)"
   ]
  },
  {
   "cell_type": "code",
   "execution_count": null,
   "id": "23b920a1",
   "metadata": {},
   "outputs": [],
   "source": [
    "# new_df['title'] == 'Avatar' # this checks the index of movie in data\n",
    "movie_index = new_df[new_df['title'] == 'Avatar'].index[0]\n",
    "movie_index"
   ]
  },
  {
   "cell_type": "code",
   "execution_count": null,
   "id": "a9ec4b96",
   "metadata": {},
   "outputs": [],
   "source": [
    "'''\n",
    "1. enumerate is like map, it convert the list into tuple to store the index.\n",
    "2. Reverse is to arrange in ascending order\n",
    "3. [1:6] return the top five matching movies and x[1] sort on the basis of 1st index\n",
    "'''\n",
    "# sorted(list(enumerate(similarity[0])), reverse=True, key = lambda x:x[1:6])"
   ]
  },
  {
   "cell_type": "code",
   "execution_count": null,
   "id": "91fa338b",
   "metadata": {},
   "outputs": [],
   "source": [
    "def recommend(movie):\n",
    "    movie_index = new_df[new_df['title'] == movie].index[0]\n",
    "    distances = similarity[movie_index]    # is the distance array of movies from movie at this index\n",
    "    movies_list = sorted(list(enumerate(distances)), reverse=True, key = lambda x:x[1])[1:6]\n",
    "\n",
    "    for i in movies_list:\n",
    "        print(new_df.iloc[i[0]].title)"
   ]
  },
  {
   "cell_type": "code",
   "execution_count": null,
   "id": "598a0b52",
   "metadata": {},
   "outputs": [],
   "source": [
    "recommend('1982')"
   ]
  },
  {
   "cell_type": "code",
   "execution_count": null,
   "id": "b68826f7",
   "metadata": {},
   "outputs": [],
   "source": [
    "# new_df.iloc[1216][1] #actually here index 1 is 'title' of the movie"
   ]
  },
  {
   "cell_type": "code",
   "execution_count": null,
   "id": "e505cbf3",
   "metadata": {},
   "outputs": [],
   "source": [
    "import pickle"
   ]
  },
  {
   "cell_type": "code",
   "execution_count": null,
   "id": "e7945970",
   "metadata": {},
   "outputs": [],
   "source": [
    "movies_list = pickle.dump(new_df,open('movies.pkl', 'wb'))  # wb stands for write binary mode"
   ]
  },
  {
   "cell_type": "code",
   "execution_count": null,
   "id": "f509a251",
   "metadata": {},
   "outputs": [],
   "source": [
    "movies = new_df['title']  # this will fetch the name of all movies\n",
    "movies"
   ]
  },
  {
   "cell_type": "code",
   "execution_count": null,
   "id": "4ab159d6",
   "metadata": {},
   "outputs": [],
   "source": [
    "pickle.dump(similarity,open('similarity.pkl', 'wb'))"
   ]
  },
  {
   "cell_type": "code",
   "execution_count": 1,
   "id": "1fc0d357",
   "metadata": {},
   "outputs": [
    {
     "ename": "NameError",
     "evalue": "name 'pd' is not defined",
     "output_type": "error",
     "traceback": [
      "\u001b[0;31m---------------------------------------------------------------------------\u001b[0m",
      "\u001b[0;31mNameError\u001b[0m                                 Traceback (most recent call last)",
      "Cell \u001b[0;32mIn[1], line 2\u001b[0m\n\u001b[1;32m      1\u001b[0m \u001b[39m# Loading raw german data\u001b[39;00m\n\u001b[0;32m----> 2\u001b[0m german_df \u001b[39m=\u001b[39m pd\u001b[39m.\u001b[39mread_csv(\u001b[39m\"\u001b[39m\u001b[39meuroparl-v7.de-en.de\u001b[39m\u001b[39m\"\u001b[39m, \u001b[39m\"\u001b[39m\u001b[39mutf-8\u001b[39m\u001b[39m\"\u001b[39m, header\u001b[39m=\u001b[39m\u001b[39mNone\u001b[39;00m, names\u001b[39m=\u001b[39m[\u001b[39m\"\u001b[39m\u001b[39mGerman\u001b[39m\u001b[39m\"\u001b[39m])\n\u001b[1;32m      3\u001b[0m german_df\u001b[39m.\u001b[39mhead()\n",
      "\u001b[0;31mNameError\u001b[0m: name 'pd' is not defined"
     ]
    }
   ],
   "source": [
    "# Loading raw german data\n",
    "german_df = pd.read_csv(\"europarl-v7.de-en.de\", \"utf-8\", header=None, names=[\"German\"])\n",
    "german_df.head()"
   ]
  },
  {
   "cell_type": "code",
   "execution_count": null,
   "id": "919e9b60",
   "metadata": {},
   "outputs": [],
   "source": []
  }
 ],
 "metadata": {
  "kernelspec": {
   "display_name": "Python 3 (ipykernel)",
   "language": "python",
   "name": "python3"
  },
  "language_info": {
   "codemirror_mode": {
    "name": "ipython",
    "version": 3
   },
   "file_extension": ".py",
   "mimetype": "text/x-python",
   "name": "python",
   "nbconvert_exporter": "python",
   "pygments_lexer": "ipython3",
   "version": "3.8.10"
  }
 },
 "nbformat": 4,
 "nbformat_minor": 5
}
